{
 "cells": [
  {
   "cell_type": "code",
   "execution_count": 1,
   "metadata": {},
   "outputs": [],
   "source": [
    "import pandas as pd"
   ]
  },
  {
   "cell_type": "code",
   "execution_count": 2,
   "metadata": {},
   "outputs": [
    {
     "data": {
      "text/html": [
       "<div>\n",
       "<style scoped>\n",
       "    .dataframe tbody tr th:only-of-type {\n",
       "        vertical-align: middle;\n",
       "    }\n",
       "\n",
       "    .dataframe tbody tr th {\n",
       "        vertical-align: top;\n",
       "    }\n",
       "\n",
       "    .dataframe thead th {\n",
       "        text-align: right;\n",
       "    }\n",
       "</style>\n",
       "<table border=\"1\" class=\"dataframe\">\n",
       "  <thead>\n",
       "    <tr style=\"text-align: right;\">\n",
       "      <th></th>\n",
       "      <th>country</th>\n",
       "      <th>year</th>\n",
       "      <th>population</th>\n",
       "      <th>continent</th>\n",
       "      <th>life_exp</th>\n",
       "      <th>gdp_cap</th>\n",
       "    </tr>\n",
       "  </thead>\n",
       "  <tbody>\n",
       "    <tr>\n",
       "      <th>0</th>\n",
       "      <td>Afghanistan</td>\n",
       "      <td>1952</td>\n",
       "      <td>8425333</td>\n",
       "      <td>Asia</td>\n",
       "      <td>28.801</td>\n",
       "      <td>779.445314</td>\n",
       "    </tr>\n",
       "    <tr>\n",
       "      <th>1</th>\n",
       "      <td>Afghanistan</td>\n",
       "      <td>1957</td>\n",
       "      <td>9240934</td>\n",
       "      <td>Asia</td>\n",
       "      <td>30.332</td>\n",
       "      <td>820.853030</td>\n",
       "    </tr>\n",
       "    <tr>\n",
       "      <th>2</th>\n",
       "      <td>Afghanistan</td>\n",
       "      <td>1962</td>\n",
       "      <td>10267083</td>\n",
       "      <td>Asia</td>\n",
       "      <td>31.997</td>\n",
       "      <td>853.100710</td>\n",
       "    </tr>\n",
       "    <tr>\n",
       "      <th>3</th>\n",
       "      <td>Afghanistan</td>\n",
       "      <td>1967</td>\n",
       "      <td>11537966</td>\n",
       "      <td>Asia</td>\n",
       "      <td>34.020</td>\n",
       "      <td>836.197138</td>\n",
       "    </tr>\n",
       "    <tr>\n",
       "      <th>4</th>\n",
       "      <td>Afghanistan</td>\n",
       "      <td>1972</td>\n",
       "      <td>13079460</td>\n",
       "      <td>Asia</td>\n",
       "      <td>36.088</td>\n",
       "      <td>739.981106</td>\n",
       "    </tr>\n",
       "  </tbody>\n",
       "</table>\n",
       "</div>"
      ],
      "text/plain": [
       "       country  year  population continent  life_exp     gdp_cap\n",
       "0  Afghanistan  1952     8425333      Asia    28.801  779.445314\n",
       "1  Afghanistan  1957     9240934      Asia    30.332  820.853030\n",
       "2  Afghanistan  1962    10267083      Asia    31.997  853.100710\n",
       "3  Afghanistan  1967    11537966      Asia    34.020  836.197138\n",
       "4  Afghanistan  1972    13079460      Asia    36.088  739.981106"
      ]
     },
     "execution_count": 2,
     "metadata": {},
     "output_type": "execute_result"
    }
   ],
   "source": [
    "# renombramos fuente de datos\n",
    "gapminder = pd.read_csv('./../data/gapminder_full.csv')\n",
    "\n",
    "# mostramos encabezado de datos\n",
    "gapminder.head()"
   ]
  },
  {
   "cell_type": "markdown",
   "metadata": {},
   "source": [
    "# Parte 1: explorando los datos"
   ]
  },
  {
   "cell_type": "code",
   "execution_count": 3,
   "metadata": {},
   "outputs": [
    {
     "data": {
      "text/plain": [
       "(1704, 6)"
      ]
     },
     "execution_count": 3,
     "metadata": {},
     "output_type": "execute_result"
    }
   ],
   "source": [
    "# mirando la forma de los datos\n",
    "gapminder.shape"
   ]
  },
  {
   "cell_type": "code",
   "execution_count": 4,
   "metadata": {},
   "outputs": [
    {
     "data": {
      "text/plain": [
       "country        object\n",
       "year            int64\n",
       "population      int64\n",
       "continent      object\n",
       "life_exp      float64\n",
       "gdp_cap       float64\n",
       "dtype: object"
      ]
     },
     "execution_count": 4,
     "metadata": {},
     "output_type": "execute_result"
    }
   ],
   "source": [
    "# mirando tipo de dato por variable\n",
    "gapminder.dtypes"
   ]
  },
  {
   "cell_type": "code",
   "execution_count": 5,
   "metadata": {},
   "outputs": [],
   "source": [
    "# hacer preguntas sobre cada variables\n",
    "\n",
    "# preguntas sobre country\n",
    "# cuantos paises hay en 2007?\n",
    "# cuantos paises por continente?\n",
    "\n",
    "# preguntas sobre year\n",
    "# de qué año a qué año van los datos?\n",
    "# cuantos datos hay por año?\n",
    "\n",
    "# preguntas sobre poblacion\n",
    "# cual es la poblacion minima y máxima?\n",
    "# cual es la poblacion mundial por año?\n",
    "# cual es el país con mayor y menor poblacion para 2007?\n",
    "# cual es la poblacion par aun país específico en un año especifíco?\n",
    "# cual es la población por continente para 2007?\n",
    "# como se distribuye (histograma) la población por año?\n",
    "\n",
    "# preguntas sobre continente\n",
    "# cuales continentes hay?\n",
    "# cuantos paises hay en cada continente para 2007?\n",
    "\n",
    "# preguntas sobre life_exp\n",
    "# cuales son los minimos y máximos de life_exp para el úlitmo año?\n",
    "# como se distribuye el promedio de life_exp por continente para el último año?\n",
    "# cual es el life_exp por pais para 2007?\n",
    "\n",
    "# preguntas sobre gdp_cap\n",
    "# cual es el gdp_cap por pais\n",
    "# cual es el gdp_cap por continente\n",
    "# como se distribuye gdp per cap para el año 2007 (cuantiles)\n",
    "\n",
    "# otras, buscando relaciones entre las variables\n",
    "# a mayor life_exp, mayor gdp_cap?\n",
    "# a mayor poblacion, mayor life_exp?\n",
    "# a mayor poblacion, mayor gdp_cap?\n",
    "# a mayor año, mayor life_exp? aumenta life_exp con los años?\n",
    "# a mayor año, mayor gdp_cap? aumenta gdp_cap con los años?"
   ]
  },
  {
   "cell_type": "code",
   "execution_count": null,
   "metadata": {},
   "outputs": [],
   "source": [
    "# preguntas sobre country"
   ]
  },
  {
   "cell_type": "code",
   "execution_count": 36,
   "metadata": {},
   "outputs": [
    {
     "name": "stdout",
     "output_type": "stream",
     "text": [
      "        country  year  population continent  life_exp       gdp_cap\n",
      "11  Afghanistan  2007    31889923      Asia    43.828    974.580338\n",
      "23      Albania  2007     3600523    Europe    76.423   5937.029526\n",
      "35      Algeria  2007    33333216    Africa    72.301   6223.367465\n",
      "47       Angola  2007    12420476    Africa    42.731   4797.231267\n",
      "59    Argentina  2007    40301927  Americas    75.320  12779.379640\n",
      "cantidad de datos:  142\n"
     ]
    }
   ],
   "source": [
    "# cuantos paises hay en 2007?\n",
    "# hacer filtro booleano\n",
    "is_2007 = gapminder['year']==2007\n",
    "\n",
    "# hacer filtro de datos\n",
    "gapminder_2007  = gapminder[is_2007]\n",
    "\n",
    "print(gapminder_2007.head())\n",
    "\n",
    "print('cantidad de datos: ', len(gapminder_2007))"
   ]
  },
  {
   "cell_type": "code",
   "execution_count": 32,
   "metadata": {},
   "outputs": [
    {
     "data": {
      "text/plain": [
       "continent\n",
       "Africa      52\n",
       "Americas    25\n",
       "Asia        33\n",
       "Europe      30\n",
       "Oceania      2\n",
       "Name: country, dtype: int64"
      ]
     },
     "execution_count": 32,
     "metadata": {},
     "output_type": "execute_result"
    }
   ],
   "source": [
    "# cuantos paises por continente?\n",
    "gapminder_2007.groupby(['continent']).count()['country']"
   ]
  },
  {
   "cell_type": "code",
   "execution_count": null,
   "metadata": {},
   "outputs": [],
   "source": [
    "# preguntas sobre year"
   ]
  },
  {
   "cell_type": "code",
   "execution_count": 42,
   "metadata": {},
   "outputs": [
    {
     "name": "stdout",
     "output_type": "stream",
     "text": [
      "minimo:  1952\n",
      "maximo:  2007\n"
     ]
    }
   ],
   "source": [
    "# de qué año a qué año van los datos?\n",
    "print('minimo: ', gapminder['year'].min())\n",
    "print('maximo: ', gapminder['year'].max())"
   ]
  },
  {
   "cell_type": "code",
   "execution_count": 47,
   "metadata": {},
   "outputs": [
    {
     "data": {
      "text/plain": [
       "year\n",
       "1952    142\n",
       "1957    142\n",
       "1962    142\n",
       "1967    142\n",
       "1972    142\n",
       "1977    142\n",
       "1982    142\n",
       "1987    142\n",
       "1992    142\n",
       "1997    142\n",
       "2002    142\n",
       "2007    142\n",
       "Name: country, dtype: int64"
      ]
     },
     "execution_count": 47,
     "metadata": {},
     "output_type": "execute_result"
    }
   ],
   "source": [
    "# cuantos datos hay por año?\n",
    "gapminder.groupby(['year']).count()['country']"
   ]
  },
  {
   "cell_type": "code",
   "execution_count": 48,
   "metadata": {},
   "outputs": [],
   "source": [
    "# preguntas sobre poblacion"
   ]
  },
  {
   "cell_type": "code",
   "execution_count": null,
   "metadata": {},
   "outputs": [],
   "source": [
    "# cual es la poblacion minima y máxima?\n",
    "# analoga a pregunta similar para year"
   ]
  },
  {
   "cell_type": "code",
   "execution_count": 55,
   "metadata": {},
   "outputs": [
    {
     "data": {
      "text/plain": [
       "year\n",
       "1952    2406957150\n",
       "1957    2664404580\n",
       "1962    2899782974\n",
       "1967    3217478384\n",
       "1972    3576977158\n",
       "1977    3930045807\n",
       "1982    4289436840\n",
       "1987    4691477418\n",
       "1992    5110710260\n",
       "1997    5515204472\n",
       "2002    5886977579\n",
       "2007    6251013179\n",
       "Name: population, dtype: int64"
      ]
     },
     "execution_count": 55,
     "metadata": {},
     "output_type": "execute_result"
    }
   ],
   "source": [
    "# cual es la poblacion mundial por año?\n",
    "gapminder.groupby(['year']).sum()['population']"
   ]
  },
  {
   "cell_type": "code",
   "execution_count": 60,
   "metadata": {},
   "outputs": [
    {
     "data": {
      "text/html": [
       "<div>\n",
       "<style scoped>\n",
       "    .dataframe tbody tr th:only-of-type {\n",
       "        vertical-align: middle;\n",
       "    }\n",
       "\n",
       "    .dataframe tbody tr th {\n",
       "        vertical-align: top;\n",
       "    }\n",
       "\n",
       "    .dataframe thead th {\n",
       "        text-align: right;\n",
       "    }\n",
       "</style>\n",
       "<table border=\"1\" class=\"dataframe\">\n",
       "  <thead>\n",
       "    <tr style=\"text-align: right;\">\n",
       "      <th></th>\n",
       "      <th>country</th>\n",
       "      <th>year</th>\n",
       "      <th>population</th>\n",
       "      <th>continent</th>\n",
       "      <th>life_exp</th>\n",
       "      <th>gdp_cap</th>\n",
       "    </tr>\n",
       "  </thead>\n",
       "  <tbody>\n",
       "    <tr>\n",
       "      <th>1307</th>\n",
       "      <td>Sao Tome and Principe</td>\n",
       "      <td>2007</td>\n",
       "      <td>199579</td>\n",
       "      <td>Africa</td>\n",
       "      <td>65.528</td>\n",
       "      <td>1598.435089</td>\n",
       "    </tr>\n",
       "    <tr>\n",
       "      <th>695</th>\n",
       "      <td>Iceland</td>\n",
       "      <td>2007</td>\n",
       "      <td>301931</td>\n",
       "      <td>Europe</td>\n",
       "      <td>81.757</td>\n",
       "      <td>36180.789190</td>\n",
       "    </tr>\n",
       "    <tr>\n",
       "      <th>431</th>\n",
       "      <td>Djibouti</td>\n",
       "      <td>2007</td>\n",
       "      <td>496374</td>\n",
       "      <td>Africa</td>\n",
       "      <td>54.791</td>\n",
       "      <td>2082.481567</td>\n",
       "    </tr>\n",
       "    <tr>\n",
       "      <th>491</th>\n",
       "      <td>Equatorial Guinea</td>\n",
       "      <td>2007</td>\n",
       "      <td>551201</td>\n",
       "      <td>Africa</td>\n",
       "      <td>51.579</td>\n",
       "      <td>12154.089750</td>\n",
       "    </tr>\n",
       "    <tr>\n",
       "      <th>1019</th>\n",
       "      <td>Montenegro</td>\n",
       "      <td>2007</td>\n",
       "      <td>684736</td>\n",
       "      <td>Europe</td>\n",
       "      <td>74.543</td>\n",
       "      <td>9253.896111</td>\n",
       "    </tr>\n",
       "    <tr>\n",
       "      <th>...</th>\n",
       "      <td>...</td>\n",
       "      <td>...</td>\n",
       "      <td>...</td>\n",
       "      <td>...</td>\n",
       "      <td>...</td>\n",
       "      <td>...</td>\n",
       "    </tr>\n",
       "    <tr>\n",
       "      <th>179</th>\n",
       "      <td>Brazil</td>\n",
       "      <td>2007</td>\n",
       "      <td>190010647</td>\n",
       "      <td>Americas</td>\n",
       "      <td>72.390</td>\n",
       "      <td>9065.800825</td>\n",
       "    </tr>\n",
       "    <tr>\n",
       "      <th>719</th>\n",
       "      <td>Indonesia</td>\n",
       "      <td>2007</td>\n",
       "      <td>223547000</td>\n",
       "      <td>Asia</td>\n",
       "      <td>70.650</td>\n",
       "      <td>3540.651564</td>\n",
       "    </tr>\n",
       "    <tr>\n",
       "      <th>1619</th>\n",
       "      <td>United States</td>\n",
       "      <td>2007</td>\n",
       "      <td>301139947</td>\n",
       "      <td>Americas</td>\n",
       "      <td>78.242</td>\n",
       "      <td>42951.653090</td>\n",
       "    </tr>\n",
       "    <tr>\n",
       "      <th>707</th>\n",
       "      <td>India</td>\n",
       "      <td>2007</td>\n",
       "      <td>1110396331</td>\n",
       "      <td>Asia</td>\n",
       "      <td>64.698</td>\n",
       "      <td>2452.210407</td>\n",
       "    </tr>\n",
       "    <tr>\n",
       "      <th>299</th>\n",
       "      <td>China</td>\n",
       "      <td>2007</td>\n",
       "      <td>1318683096</td>\n",
       "      <td>Asia</td>\n",
       "      <td>72.961</td>\n",
       "      <td>4959.114854</td>\n",
       "    </tr>\n",
       "  </tbody>\n",
       "</table>\n",
       "<p>142 rows × 6 columns</p>\n",
       "</div>"
      ],
      "text/plain": [
       "                    country  year  population continent  life_exp  \\\n",
       "1307  Sao Tome and Principe  2007      199579    Africa    65.528   \n",
       "695                 Iceland  2007      301931    Europe    81.757   \n",
       "431                Djibouti  2007      496374    Africa    54.791   \n",
       "491       Equatorial Guinea  2007      551201    Africa    51.579   \n",
       "1019             Montenegro  2007      684736    Europe    74.543   \n",
       "...                     ...   ...         ...       ...       ...   \n",
       "179                  Brazil  2007   190010647  Americas    72.390   \n",
       "719               Indonesia  2007   223547000      Asia    70.650   \n",
       "1619          United States  2007   301139947  Americas    78.242   \n",
       "707                   India  2007  1110396331      Asia    64.698   \n",
       "299                   China  2007  1318683096      Asia    72.961   \n",
       "\n",
       "           gdp_cap  \n",
       "1307   1598.435089  \n",
       "695   36180.789190  \n",
       "431    2082.481567  \n",
       "491   12154.089750  \n",
       "1019   9253.896111  \n",
       "...            ...  \n",
       "179    9065.800825  \n",
       "719    3540.651564  \n",
       "1619  42951.653090  \n",
       "707    2452.210407  \n",
       "299    4959.114854  \n",
       "\n",
       "[142 rows x 6 columns]"
      ]
     },
     "execution_count": 60,
     "metadata": {},
     "output_type": "execute_result"
    }
   ],
   "source": [
    "# cual es el país con mayor y menor poblacion para 2007?\n",
    "gapminder_2007.sort_values('population')"
   ]
  },
  {
   "cell_type": "code",
   "execution_count": 70,
   "metadata": {},
   "outputs": [
    {
     "data": {
      "text/html": [
       "<div>\n",
       "<style scoped>\n",
       "    .dataframe tbody tr th:only-of-type {\n",
       "        vertical-align: middle;\n",
       "    }\n",
       "\n",
       "    .dataframe tbody tr th {\n",
       "        vertical-align: top;\n",
       "    }\n",
       "\n",
       "    .dataframe thead th {\n",
       "        text-align: right;\n",
       "    }\n",
       "</style>\n",
       "<table border=\"1\" class=\"dataframe\">\n",
       "  <thead>\n",
       "    <tr style=\"text-align: right;\">\n",
       "      <th></th>\n",
       "      <th>country</th>\n",
       "      <th>year</th>\n",
       "      <th>population</th>\n",
       "      <th>continent</th>\n",
       "      <th>life_exp</th>\n",
       "      <th>gdp_cap</th>\n",
       "    </tr>\n",
       "  </thead>\n",
       "  <tbody>\n",
       "    <tr>\n",
       "      <th>1426</th>\n",
       "      <td>Spain</td>\n",
       "      <td>2002</td>\n",
       "      <td>40152517</td>\n",
       "      <td>Europe</td>\n",
       "      <td>79.78</td>\n",
       "      <td>24835.47166</td>\n",
       "    </tr>\n",
       "  </tbody>\n",
       "</table>\n",
       "</div>"
      ],
      "text/plain": [
       "     country  year  population continent  life_exp      gdp_cap\n",
       "1426   Spain  2002    40152517    Europe     79.78  24835.47166"
      ]
     },
     "execution_count": 70,
     "metadata": {},
     "output_type": "execute_result"
    }
   ],
   "source": [
    "# cual es la poblacion par aun país específico en un año especifíco?\n",
    "gapminder[(gapminder['year']==2002) & (gapminder['country']=='Spain')]"
   ]
  },
  {
   "cell_type": "code",
   "execution_count": 73,
   "metadata": {},
   "outputs": [
    {
     "data": {
      "text/html": [
       "<div>\n",
       "<style scoped>\n",
       "    .dataframe tbody tr th:only-of-type {\n",
       "        vertical-align: middle;\n",
       "    }\n",
       "\n",
       "    .dataframe tbody tr th {\n",
       "        vertical-align: top;\n",
       "    }\n",
       "\n",
       "    .dataframe thead th {\n",
       "        text-align: right;\n",
       "    }\n",
       "</style>\n",
       "<table border=\"1\" class=\"dataframe\">\n",
       "  <thead>\n",
       "    <tr style=\"text-align: right;\">\n",
       "      <th></th>\n",
       "      <th>year</th>\n",
       "      <th>population</th>\n",
       "      <th>life_exp</th>\n",
       "      <th>gdp_cap</th>\n",
       "    </tr>\n",
       "    <tr>\n",
       "      <th>continent</th>\n",
       "      <th></th>\n",
       "      <th></th>\n",
       "      <th></th>\n",
       "      <th></th>\n",
       "    </tr>\n",
       "  </thead>\n",
       "  <tbody>\n",
       "    <tr>\n",
       "      <th>Africa</th>\n",
       "      <td>104364</td>\n",
       "      <td>929539692</td>\n",
       "      <td>2849.914</td>\n",
       "      <td>160629.695446</td>\n",
       "    </tr>\n",
       "    <tr>\n",
       "      <th>Americas</th>\n",
       "      <td>50175</td>\n",
       "      <td>898871184</td>\n",
       "      <td>1840.203</td>\n",
       "      <td>275075.790634</td>\n",
       "    </tr>\n",
       "    <tr>\n",
       "      <th>Asia</th>\n",
       "      <td>66231</td>\n",
       "      <td>3811953827</td>\n",
       "      <td>2334.040</td>\n",
       "      <td>411609.886714</td>\n",
       "    </tr>\n",
       "    <tr>\n",
       "      <th>Europe</th>\n",
       "      <td>60210</td>\n",
       "      <td>586098529</td>\n",
       "      <td>2329.458</td>\n",
       "      <td>751634.449078</td>\n",
       "    </tr>\n",
       "    <tr>\n",
       "      <th>Oceania</th>\n",
       "      <td>4014</td>\n",
       "      <td>24549947</td>\n",
       "      <td>161.439</td>\n",
       "      <td>59620.376550</td>\n",
       "    </tr>\n",
       "  </tbody>\n",
       "</table>\n",
       "</div>"
      ],
      "text/plain": [
       "             year  population  life_exp        gdp_cap\n",
       "continent                                             \n",
       "Africa     104364   929539692  2849.914  160629.695446\n",
       "Americas    50175   898871184  1840.203  275075.790634\n",
       "Asia        66231  3811953827  2334.040  411609.886714\n",
       "Europe      60210   586098529  2329.458  751634.449078\n",
       "Oceania      4014    24549947   161.439   59620.376550"
      ]
     },
     "execution_count": 73,
     "metadata": {},
     "output_type": "execute_result"
    }
   ],
   "source": [
    "# cual es la población por continente para 2007?\n",
    "gapminder_2007.groupby(['continent']).sum()"
   ]
  },
  {
   "cell_type": "code",
   "execution_count": 81,
   "metadata": {},
   "outputs": [
    {
     "data": {
      "text/plain": [
       "<matplotlib.axes._subplots.AxesSubplot at 0x219bfb3c488>"
      ]
     },
     "execution_count": 81,
     "metadata": {},
     "output_type": "execute_result"
    },
    {
     "data": {
      "image/png": "[encoded data removed]",
      "text/plain": [
       "<Figure size 432x288 with 1 Axes>"
      ]
     },
     "metadata": {
      "needs_background": "light"
     },
     "output_type": "display_data"
    }
   ],
   "source": [
    "# como se distribuye (histograma) la población por año?\n",
    "gapminder_2007['population'].hist(bins = 30)"
   ]
  },
  {
   "cell_type": "code",
   "execution_count": null,
   "metadata": {},
   "outputs": [],
   "source": [
    "# Nota: para conocer más sobre las distintas operaciones sobre datos, ver curso de Python"
   ]
  }
 ],
 "metadata": {
  "kernelspec": {
   "display_name": "Python 3",
   "language": "python",
   "name": "python3"
  },
  "language_info": {
   "codemirror_mode": {
    "name": "ipython",
    "version": 3
   },
   "file_extension": ".py",
   "mimetype": "text/x-python",
   "name": "python",
   "nbconvert_exporter": "python",
   "pygments_lexer": "ipython3",
   "version": "3.7.6"
  }
 },
 "nbformat": 4,
 "nbformat_minor": 4
}

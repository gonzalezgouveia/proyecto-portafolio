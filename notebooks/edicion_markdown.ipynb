{
 "cells": [
  {
   "cell_type": "markdown",
   "id": "e25127f8-39a9-437f-8f9a-d20aca883b98",
   "metadata": {},
   "source": [
    "# Markdown en Jupyter Notebook"
   ]
  },
  {
   "cell_type": "markdown",
   "id": "5116cace-ab48-4520-a28f-c8d183e0d9da",
   "metadata": {},
   "source": [
    "En este notebook vamos a ver las principales formas de editar un jupyter notebook poder presentar (y entender) mejor nuestro análisis"
   ]
  },
  {
   "cell_type": "markdown",
   "id": "7b10c218-9c89-4543-bcdb-60dfaebda6a2",
   "metadata": {},
   "source": [
    "## ¿Qué es markdown?"
   ]
  },
  {
   "cell_type": "markdown",
   "id": "0c6821ca-a71e-4b15-b3d7-5eaa3cf91c6d",
   "metadata": {},
   "source": [
    "Markdown es un lenguaje tipo \"Mark-up\" que es utilizado por análistas y científicos de datos (entre otros) para presentar resultados en un jupyter notebook.\n",
    "\n",
    "En este notebook vamos a ver como modificar con markdown:\n",
    "* Títulos\n",
    "* Secciones de código\n",
    "* Símbolos matemáticos\n",
    "* Texto en negrita y cursiva\n",
    "* Listas\n",
    "* Links\n",
    "* Imágenes\n",
    "\n",
    "Puedes activar o desactivar el modo markdown haciendo click en el menú superior estándo en la celda que quieres cambiar.\n",
    "<img src=\"modo_markdown.png\">\n"
   ]
  },
  {
   "cell_type": "markdown",
   "id": "3b496375-89a0-4f92-9fd5-c39a4ea0f716",
   "metadata": {},
   "source": [
    "# Títulos"
   ]
  },
  {
   "cell_type": "markdown",
   "id": "7e8451a8-24ab-46a2-aae0-8786162a4027",
   "metadata": {},
   "source": [
    "Los títulos se pueden crear en markdown utilizando el símbolo # antes de empezar una línea y seguido de un espacio. Además se pueden crear subtitulos si se utiliza un doble ## y espacio.\n",
    "\n",
    "De forma similar, hay hasta 6 níveles de títulos. Por ejemplo\n",
    "\n",
    "# Título principal (con un #)\n",
    "## Título secudario (con doble ##)\n",
    "### Título terciario (con triple ###)\n",
    "#### Título 4\n",
    "##### Título 5\n",
    "###### Título 6\n",
    "\n",
    "Puedes utilizarlo cuando quieres separar tu análisis en s"
   ]
  },
  {
   "cell_type": "markdown",
   "id": "20fc92db-320d-49c0-b1df-0eca9516342c",
   "metadata": {},
   "source": [
    "# Secciones de código"
   ]
  },
  {
   "cell_type": "markdown",
   "id": "7d111aac-64ec-48b9-a975-e217e018b8e1",
   "metadata": {},
   "source": [
    "Este tipo de secciones es útil cuando queremos explicar un códgio. \n",
    "\n",
    "Por ejemplo, si queremos hablar del paquete `pandas` y resaltar que `x=1`\n",
    "\n",
    "Podemos hacer utilizando está tilde ``` ` ```\n",
    "\n",
    "También podemos utilizar tres veces esta tilde \n",
    "seguida del lenguaje de programación para poner colores\n",
    "\n",
    "Por ejemplo, para python\n",
    "```Python\n",
    "import numpy as np\n",
    "x = 2\n",
    "print(x)\n",
    "``` \n",
    "\n",
    "En el caso de SQL,\n",
    "```SQL\n",
    "SELECT *\n",
    "FROM table1\n",
    "WHERE var1='x'\n",
    "``` \n"
   ]
  },
  {
   "cell_type": "markdown",
   "id": "fc0bddb4-e4bc-4ace-aa73-a0bfd042386c",
   "metadata": {},
   "source": [
    "# Simbolos matemáticos"
   ]
  },
  {
   "cell_type": "markdown",
   "id": "548d05d3-4357-4781-bd2e-0a64e13da0c7",
   "metadata": {},
   "source": [
    "También es posible editar nuestros notebooks con símbolos matemáticos.\n",
    "\n",
    "Para hacer esto hay que separar el texto matemático con símbolos de dolar $ $ $\n",
    "\n",
    "Por ejemplo, una ecuación pudiera ser $a^2 = b^2 + c^2$\n",
    "\n",
    "Para resaltar la fórmula y hacerla más grande se puede colocar doble dolar $$\n",
    "\n",
    "$$ x_{1,2} = \\frac{-b \\pm \\sqrt{b^2-4ac}}{2a}$$\n",
    "\n",
    "La sintaxis matemática está basada en $\\LaTeX $  \n",
    "\n",
    "Para aprender más, se puede revisar https://manualdelatex.com/tutoriales/ecuaciones"
   ]
  },
  {
   "cell_type": "markdown",
   "id": "c17173f7-f04b-4988-9c40-21ce2d4d7b08",
   "metadata": {},
   "source": [
    "# Texto en negrita y cursiva"
   ]
  },
  {
   "cell_type": "markdown",
   "id": "587498ca-494d-4653-b038-1b4ae97d4861",
   "metadata": {},
   "source": [
    "Es posible escribir texto en **negrita** y en _cursiva_\n",
    "* Para texto en negrita se puede usar doble asterisco `**` o doble barra baja `__`\n",
    "* Para texto cursiva utilizar un asterísco `*` o una a barra baja `_`"
   ]
  },
  {
   "cell_type": "markdown",
   "id": "57afb857-0f5c-42b9-ac43-68ff852f3bb1",
   "metadata": {},
   "source": [
    "# Listas"
   ]
  },
  {
   "cell_type": "markdown",
   "id": "eeb98398-5d0f-4a18-bc7d-26e41d488ff5",
   "metadata": {},
   "source": [
    "En markdown también se pueden hacer listas o bullets. Por ejemplo,\n",
    "* Esto\n",
    "* sería\n",
    "* una\n",
    "* lista\n",
    "\n",
    "Para eso, hay que escribir al inicio de la línea un asterisco `*` o un guión `-`\n",
    "- otra\n",
    "- lista\n",
    "- sin\n",
    "- orden\n",
    "\n",
    "Además de este tipo de listas se pueden hacer listas enumeradas. Por ejemplo:\n",
    "\n",
    "1. Cuando\n",
    "2. tengo\n",
    "3. que\n",
    "4. enumerar\n",
    "\n",
    "Para esto, se puede empezar la lista con el número `1.` y en la siguiente línea el `2.` y así. También es posible escribir en todos los renglones `1.`y markdown se encarga de hacer la enumeración. Por ejemplo:\n",
    "\n",
    "1. Esta\n",
    "1. sería \n",
    "1. otra \n",
    "1. lista\n",
    "1. con 1's\n",
    "\n",
    "Si se deja identación o sangrías se pueden generar listas dentro de las listas. Por ejemplo:\n",
    "\n",
    "1. Lectura de datos:\n",
    "    * Buscar\n",
    "    * Cargar\n",
    "        1. limpiar\n",
    "        1. subir a python\n",
    "1. Procesamiento\n",
    "    * buscar outliers\n",
    "    * buscar duplicados\n",
    "1. Modelos, etc..."
   ]
  },
  {
   "cell_type": "markdown",
   "id": "ff11a630-5013-4eb6-9d2a-5c425b824039",
   "metadata": {},
   "source": [
    "# Links"
   ]
  },
  {
   "cell_type": "markdown",
   "id": "6532c76a-289c-4a6c-a5ca-03207ab74fdc",
   "metadata": {},
   "source": [
    "Es posible hacer referencias a páginas externas al notebook. \n",
    "\n",
    "Por ejemplo,\n",
    "\n",
    "Mira mi repo en la web --> https://github.com/gonzalezgouveia/proyecto-portafolio/\n",
    "\n",
    "O puedes esconder en enlace en una palabra clave. Así,\n",
    "\n",
    "Has click [aquí](https://github.com/gonzalezgouveia/proyecto-portafolio/) para ver mi web de github.\n",
    "Para eso, escribimos la palabra entre corchetes y luego entre parentesis el enlace \n",
    "``` [palabra](link) ```"
   ]
  },
  {
   "cell_type": "markdown",
   "id": "273fe0b1-beb8-4f31-beb2-45ba83b73769",
   "metadata": {},
   "source": [
    "# Imágenes"
   ]
  },
  {
   "cell_type": "markdown",
   "id": "fb49e8ba-ed84-45f8-8902-103a47b61949",
   "metadata": {},
   "source": [
    "Por último, markdown también permite incluir imágenes en sus reportes.\n",
    "\n",
    "Si estás desde jupyter lab, una manera es arrastar la imagen directamente en la celda de markdown.\n",
    "\n",
    "Otra forma es con la etiqueta img. Para incluir una imagen así tenemos que usar un código cómo este `<img src=\"imagen.png\">` donde en src hay incluir la ruta de la imagen. \n",
    "\n",
    "Por lo general, se puede escribir el nombre de la imagen si se encuentra en la misma carpeta que el notebook. \n",
    "Por ejemplo\n",
    "`<img src=\"grafica_barras.png\">` da como resultado:\n",
    "<img src=\"grafica_barras.png\">"
   ]
  },
  {
   "cell_type": "code",
   "execution_count": null,
   "id": "d86e2a42-355f-495b-9418-6b29d1a0daaa",
   "metadata": {},
   "outputs": [],
   "source": []
  }
 ],
 "metadata": {
  "kernelspec": {
   "display_name": "Python 3",
   "language": "python",
   "name": "python3"
  },
  "language_info": {
   "codemirror_mode": {
    "name": "ipython",
    "version": 3
   },
   "file_extension": ".py",
   "mimetype": "text/x-python",
   "name": "python",
   "nbconvert_exporter": "python",
   "pygments_lexer": "ipython3",
   "version": "3.7.10"
  }
 },
 "nbformat": 4,
 "nbformat_minor": 5
}

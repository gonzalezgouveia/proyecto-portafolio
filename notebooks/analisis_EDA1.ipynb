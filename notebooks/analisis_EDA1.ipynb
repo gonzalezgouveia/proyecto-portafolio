{
 "cells": [
  {
   "cell_type": "code",
   "execution_count": 1,
   "metadata": {},
   "outputs": [],
   "source": [
    "import pandas as pd"
   ]
  },
  {
   "cell_type": "code",
   "execution_count": 2,
   "metadata": {},
   "outputs": [
    {
     "data": {
      "text/html": [
       "<div>\n",
       "<style scoped>\n",
       "    .dataframe tbody tr th:only-of-type {\n",
       "        vertical-align: middle;\n",
       "    }\n",
       "\n",
       "    .dataframe tbody tr th {\n",
       "        vertical-align: top;\n",
       "    }\n",
       "\n",
       "    .dataframe thead th {\n",
       "        text-align: right;\n",
       "    }\n",
       "</style>\n",
       "<table border=\"1\" class=\"dataframe\">\n",
       "  <thead>\n",
       "    <tr style=\"text-align: right;\">\n",
       "      <th></th>\n",
       "      <th>country</th>\n",
       "      <th>year</th>\n",
       "      <th>population</th>\n",
       "      <th>continent</th>\n",
       "      <th>life_exp</th>\n",
       "      <th>gdp_cap</th>\n",
       "    </tr>\n",
       "  </thead>\n",
       "  <tbody>\n",
       "    <tr>\n",
       "      <th>0</th>\n",
       "      <td>Afghanistan</td>\n",
       "      <td>1952</td>\n",
       "      <td>8425333</td>\n",
       "      <td>Asia</td>\n",
       "      <td>28.801</td>\n",
       "      <td>779.445314</td>\n",
       "    </tr>\n",
       "    <tr>\n",
       "      <th>1</th>\n",
       "      <td>Afghanistan</td>\n",
       "      <td>1957</td>\n",
       "      <td>9240934</td>\n",
       "      <td>Asia</td>\n",
       "      <td>30.332</td>\n",
       "      <td>820.853030</td>\n",
       "    </tr>\n",
       "    <tr>\n",
       "      <th>2</th>\n",
       "      <td>Afghanistan</td>\n",
       "      <td>1962</td>\n",
       "      <td>10267083</td>\n",
       "      <td>Asia</td>\n",
       "      <td>31.997</td>\n",
       "      <td>853.100710</td>\n",
       "    </tr>\n",
       "    <tr>\n",
       "      <th>3</th>\n",
       "      <td>Afghanistan</td>\n",
       "      <td>1967</td>\n",
       "      <td>11537966</td>\n",
       "      <td>Asia</td>\n",
       "      <td>34.020</td>\n",
       "      <td>836.197138</td>\n",
       "    </tr>\n",
       "    <tr>\n",
       "      <th>4</th>\n",
       "      <td>Afghanistan</td>\n",
       "      <td>1972</td>\n",
       "      <td>13079460</td>\n",
       "      <td>Asia</td>\n",
       "      <td>36.088</td>\n",
       "      <td>739.981106</td>\n",
       "    </tr>\n",
       "  </tbody>\n",
       "</table>\n",
       "</div>"
      ],
      "text/plain": [
       "       country  year  population continent  life_exp     gdp_cap\n",
       "0  Afghanistan  1952     8425333      Asia    28.801  779.445314\n",
       "1  Afghanistan  1957     9240934      Asia    30.332  820.853030\n",
       "2  Afghanistan  1962    10267083      Asia    31.997  853.100710\n",
       "3  Afghanistan  1967    11537966      Asia    34.020  836.197138\n",
       "4  Afghanistan  1972    13079460      Asia    36.088  739.981106"
      ]
     },
     "execution_count": 2,
     "metadata": {},
     "output_type": "execute_result"
    }
   ],
   "source": [
    "# renombramos fuente de datos\n",
    "gapminder = pd.read_csv('./../data/gapminder_full.csv')\n",
    "\n",
    "# mostramos encabezado de datos\n",
    "gapminder.head()"
   ]
  },
  {
   "cell_type": "markdown",
   "metadata": {},
   "source": [
    "# Parte 1: explorando los datos"
   ]
  },
  {
   "cell_type": "code",
   "execution_count": 3,
   "metadata": {},
   "outputs": [
    {
     "data": {
      "text/plain": [
       "(1704, 6)"
      ]
     },
     "execution_count": 3,
     "metadata": {},
     "output_type": "execute_result"
    }
   ],
   "source": [
    "# mirando la forma de los datos\n",
    "gapminder.shape"
   ]
  },
  {
   "cell_type": "code",
   "execution_count": 4,
   "metadata": {},
   "outputs": [
    {
     "data": {
      "text/plain": [
       "country        object\n",
       "year            int64\n",
       "population      int64\n",
       "continent      object\n",
       "life_exp      float64\n",
       "gdp_cap       float64\n",
       "dtype: object"
      ]
     },
     "execution_count": 4,
     "metadata": {},
     "output_type": "execute_result"
    }
   ],
   "source": [
    "# mirando tipo de dato por variable\n",
    "gapminder.dtypes"
   ]
  },
  {
   "cell_type": "code",
   "execution_count": null,
   "metadata": {},
   "outputs": [],
   "source": [
    "# hacer preguntas sobre cada variables\n",
    "\n",
    "# preguntas sobre country\n",
    "# cuantos paises hay en 2007?\n",
    "# cuantos paises por continente?\n",
    "\n",
    "# preguntas sobre year\n",
    "# de qué año a qué año van los datos?\n",
    "# cuantos datos hay por año?\n",
    "\n",
    "# preguntas sobre poblacion\n",
    "# cual es la poblacion minima y máxima?\n",
    "# cual es la poblacion mundial por año?\n",
    "# cual es el país con mayor y menor poblacion para 2007?\n",
    "# cual es la poblacion par aun país específico en un año especifíco?\n",
    "# cual es la población por continente para 2007?\n",
    "# como se distribuye (histograma) la población por año?\n",
    "\n",
    "# preguntas sobre continente\n",
    "# cuales continentes hay?\n",
    "# cuantos paises hay en cada continente para 2007?\n",
    "\n",
    "# preguntas sobre life_exp\n",
    "# cuales son los minimos y máximos de life_exp para el úlitmo año?\n",
    "# como se distribuye el promedio de life_exp por continente para el último año?\n",
    "# cual es el life_exp por pais para 2007?\n",
    "\n",
    "# preguntas sobre gdp_cap\n",
    "# cual es el gdp_cap por pais\n",
    "# cual es el gdp_cap por continente\n",
    "# como se distribuye gdp per cap para el año 2007 (cuantiles)\n",
    "\n",
    "# otras, buscando relaciones entre las variables\n",
    "# a mayor life_exp, mayor gdp_cap?\n",
    "# a mayor poblacion, mayor life_exp?\n",
    "# a mayor poblacion, mayor gdp_cap?\n",
    "# a mayor año, mayor life_exp? aumenta life_exp con los años?\n",
    "# a mayor año, mayor gdp_cap? aumenta gdp_cap con los años?"
   ]
  }
 ],
 "metadata": {
  "kernelspec": {
   "display_name": "Python 3",
   "language": "python",
   "name": "python3"
  },
  "language_info": {
   "codemirror_mode": {
    "name": "ipython",
    "version": 3
   },
   "file_extension": ".py",
   "mimetype": "text/x-python",
   "name": "python",
   "nbconvert_exporter": "python",
   "pygments_lexer": "ipython3",
   "version": "3.7.6"
  }
 },
 "nbformat": 4,
 "nbformat_minor": 4
}
